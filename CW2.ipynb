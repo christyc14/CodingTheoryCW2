{
 "cells": [
  {
   "cell_type": "markdown",
   "metadata": {},
   "source": [
    "# Coursework 2: Cryptography"
   ]
  },
  {
   "cell_type": "markdown",
   "metadata": {},
   "source": [
    "[x] By tick the checkbox, we hereby declare that this coursework report is our own and autonomous work. We have acknowledged all material and sources used in its preparation, including books, articles, reports, lecture notes, internet software packages, and any other kind of document, electronic or personal communication. This work has not been submitted for any other assessment."
   ]
  },
  {
   "cell_type": "markdown",
   "metadata": {},
   "source": [
    "## 2.1 ElGamal Public Key and Digital Signature (50%)"
   ]
  },
  {
   "cell_type": "markdown",
   "metadata": {},
   "source": [
    "### Helper Function(s)"
   ]
  },
  {
   "cell_type": "code",
   "execution_count": 1,
   "metadata": {},
   "outputs": [
    {
     "data": {
      "text/plain": [
       "pwr_mod (generic function with 1 method)"
      ]
     },
     "execution_count": 1,
     "metadata": {},
     "output_type": "execute_result"
    }
   ],
   "source": [
    "function pwr_mod(x::Int,p::Int,n::Int)\n",
    "    #Compute  𝑥𝑛 ≡ 𝑎 mod𝑝\n",
    "    # x is the number\n",
    "    # p is the mod\n",
    "    # n is the power\n",
    "\n",
    "    # Initialize the \"product\"\n",
    "    product = 1\n",
    "    y = x\n",
    "    # Break n to powers of 2 by expressing it as a vector of 'bits' using built in 'digits' function\n",
    "    #e.g 789 = [1  0  1  0  1  0  0  0  1  1]\n",
    "    for i in digits(n,base=2)\n",
    "        # y = x^(2^iter) mod p, where iter is the iteration of the loop\n",
    "        if i == 1\n",
    "            # If the current power of the power of 2 of x is used \n",
    "            # to break down n, multiply \"product\" with it\n",
    "            # Otherwise skip it \n",
    "            product = mod(product*y,p)\n",
    "        end\n",
    "        # Update y for the next iteration\n",
    "        y = mod(y^2,p)\n",
    "    end\n",
    "    return product\n",
    "end"
   ]
  },
  {
   "cell_type": "markdown",
   "metadata": {},
   "source": [
    "### 2.1.1 Key Generation\n",
    "\n",
    "From [this list](https://primes.utm.edu/lists/small/10000.txt) choose a prime number $p$ that is larger than 10,000. Find a primitive element $b$ in $\\mathbb{F}_p$ such that $b > \\sqrt{p}$. Choose an integer $a^{\\prime} > \\sqrt{p}$ as your private key and use it to generate $a = b^{a^{\\prime}} \\in \\mathbb{F}_p^*$. \n",
    "\n",
    "$(p,b,a)$ is the public information. "
   ]
  },
  {
   "cell_type": "code",
   "execution_count": 2,
   "metadata": {},
   "outputs": [
    {
     "name": "stdout",
     "output_type": "stream",
     "text": [
      "p = 10067\n",
      "b = 103\n",
      "a = 7235\n"
     ]
    }
   ],
   "source": [
    "p = 10067\n",
    "b = 103 #do we need to calculate this?\n",
    "a_prime = 107 #Using smaller numbers to aid runtime\n",
    "\n",
    "a = pwr_mod(b, p, a_prime)\n",
    "println(\"p = \",p)\n",
    "println(\"b = \",b)\n",
    "println(\"a = \",a)"
   ]
  },
  {
   "cell_type": "markdown",
   "metadata": {},
   "source": [
    "### 2.1.2 Encryption\n",
    "\n",
    "Design and implement a function `ElGamal_Encypt`. Write necessary documentation. "
   ]
  },
  {
   "cell_type": "code",
   "execution_count": 3,
   "metadata": {},
   "outputs": [
    {
     "name": "stdout",
     "output_type": "stream",
     "text": [
      "51"
     ]
    },
    {
     "data": {
      "text/plain": [
       "2-element Vector{Int64}:\n",
       "   9417\n",
       " 194619"
      ]
     },
     "execution_count": 3,
     "metadata": {},
     "output_type": "execute_result"
    }
   ],
   "source": [
    "function ElGamal_Encrypt(p,b,a,msg)\n",
    "    t = rand(1:100)\n",
    "    print(t)\n",
    "    e_msg = [pwr_mod(b, p, t), msg * pwr_mod(a, p, t)]\n",
    "end\n",
    "msg = rand(1:200)\n",
    "e_msg = ElGamal_Encrypt(p,b,a,msg)"
   ]
  },
  {
   "cell_type": "markdown",
   "metadata": {},
   "source": [
    "### 2.1.3 Decryption\n",
    "\n",
    "Design and implement a function `ElGamal_Decypt`. Write necessary documentation. \n",
    "\n",
    "Use at least 3 examples to demonstrate the correctness of your encryption and decryption functions. "
   ]
  },
  {
   "cell_type": "code",
   "execution_count": 4,
   "metadata": {},
   "outputs": [
    {
     "name": "stdout",
     "output_type": "stream",
     "text": [
      "true\n"
     ]
    }
   ],
   "source": [
    "function ElGamal_Decrypt(p,b,a,e_msg)\n",
    "    #m = ma^t(b^t)^(-a_prime)\n",
    "    bt = e_msg[1]\n",
    "    mat = e_msg[2]\n",
    "    msg = 1 / pwr_mod(bt, p, a_prime)\n",
    "    msg = mod(msg * mat,p)\n",
    "end\n",
    "println(msg == ElGamal_Decrypt(p,b,a,e_msg))"
   ]
  },
  {
   "cell_type": "markdown",
   "metadata": {},
   "source": [
    "### 2.1.4 Digital Signature Sign\n",
    "\n",
    "Design and implement a function `ElGamal_Sign` to digitally sign a message. Write necessary documentation. "
   ]
  },
  {
   "cell_type": "code",
   "execution_count": 5,
   "metadata": {},
   "outputs": [
    {
     "name": "stdout",
     "output_type": "stream",
     "text": [
      "u = 9417.0\n",
      "ElGamal_Sign(m, p, b, t, a_prime) = (3482, 2252.0)\n"
     ]
    },
    {
     "data": {
      "text/plain": [
       "(3482, 2252.0)"
      ]
     },
     "execution_count": 5,
     "metadata": {},
     "output_type": "execute_result"
    }
   ],
   "source": [
    "using LinearAlgebra\n",
    "#Define random message\n",
    "m = 82\n",
    "#m = rand(1:200)\n",
    "#print(\"MESSAGE: \", m, \"\\n\")\n",
    "\n",
    "#Choose random t between 1 and p-1\n",
    "#gcd of t with p-1 must equal 1. gcd(t, p-1) = 1\n",
    "t = 1551\n",
    "#while gcd(t, p-1) != 1\n",
    "    #t = rand(1:p-1)\n",
    "#end\n",
    "\n",
    "#calculate u where t*u = 1 mod(p-1)\n",
    "u = 0\n",
    "count = 0\n",
    "loop = true\n",
    "\n",
    "while loop == true\n",
    "    if(mod((count * (p-1) + 1),t) == 0)\n",
    "        u = (count * (p-1) + 1)/t\n",
    "        loop = false\n",
    "    end\n",
    "    count = count + 1 \n",
    "end\n",
    "@show u\n",
    "\n",
    "function ElGamal_Sign(m, p, b, t, a_prime)\n",
    "    i = pwr_mod(b, p, t) \n",
    "    j = mod(u * (norm(m) - a_prime * norm(i)), p-1)\n",
    "    \n",
    "    return i, j\n",
    "    \n",
    "end\n",
    "\n",
    "@show ElGamal_Sign(m, p, b, t, a_prime)"
   ]
  },
  {
   "cell_type": "markdown",
   "metadata": {},
   "source": [
    "### 2.1.5 Digital Signature Verification\n",
    "\n",
    "Design and implement a function `ElGamal_SignVerify` to verify the digital sigature. Write necessary documentation. \n",
    "\n",
    "Use at least 3 examples to demonstrate the correctness of your functions for digital signature and verification. "
   ]
  },
  {
   "cell_type": "code",
   "execution_count": 6,
   "metadata": {},
   "outputs": [
    {
     "name": "stdout",
     "output_type": "stream",
     "text": [
      "LHS = 5966\n",
      "RHS = 5966\n"
     ]
    },
    {
     "data": {
      "text/plain": [
       "true"
      ]
     },
     "execution_count": 6,
     "metadata": {},
     "output_type": "execute_result"
    }
   ],
   "source": [
    "function ElGamal_SignVerify(p, a, b, i, j, m)\n",
    "    LHS = mod(pwr_mod(a, p, i) * pwr_mod(i, p, j),p)\n",
    "    RHS = pwr_mod(b, p, m)\n",
    "    @show LHS\n",
    "    @show RHS\n",
    "    return LHS == RHS\n",
    "end\n",
    "\n",
    "#i,j = ElGamal_Sign(m, p, b, t, a_prime)\n",
    "\n",
    "j = 2252\n",
    "i = 3482\n",
    "\n",
    "ElGamal_SignVerify(p, a, b, i, j, m)"
   ]
  },
  {
   "cell_type": "markdown",
   "metadata": {},
   "source": [
    "## 2.2 RSA Public Key and Digital Signature (50%)"
   ]
  },
  {
   "cell_type": "markdown",
   "metadata": {},
   "source": [
    "### 2.2.1 Key Generation\n",
    "\n",
    "From [this list](https://primes.utm.edu/lists/small/10000.txt) choose two prime numbers $p_1$ and $p_2$ that are larger than 10,000. Calculate $n=p_1 p_2$ and $t=(p_1-1)(p_2-1)$. Find an $e > 10,000$ such that $\\text{gcd}(e,t)=1$. \n",
    "\n",
    "$(n,e)$ is the public key. "
   ]
  },
  {
   "cell_type": "markdown",
   "metadata": {},
   "source": [
    "First we create helper functions to generate random and valid keys"
   ]
  },
  {
   "cell_type": "code",
   "execution_count": 7,
   "metadata": {},
   "outputs": [
    {
     "data": {
      "text/plain": [
       "RSA_key_pair (generic function with 1 method)"
      ]
     },
     "execution_count": 7,
     "metadata": {},
     "output_type": "execute_result"
    }
   ],
   "source": [
    "using Random\n",
    "# Function to generate a random e for RSA public key\n",
    "# Input: t\n",
    "# Output: e\n",
    "function generate_e(t::Int)\n",
    "    # Initialize vector for the coprimes of t\n",
    "    coprimes = []\n",
    "    # Initialize x as 1\n",
    "    x = 1\n",
    "    # Initialize p\n",
    "    p = 1\n",
    "    while p < t\n",
    "        # Append previous x to coprimes if it is not 1\n",
    "        if x != 1\n",
    "            append!(coprimes,x)\n",
    "        end\n",
    "        # Pick a random number x, 1 < x < t\n",
    "        x = rand(2:t-1)\n",
    "        # Divide x by the gcd(x,t) to find a coprime of t\n",
    "        g = gcd(x,t)\n",
    "        while g > 1\n",
    "            x = div(x,g)\n",
    "            g = gcd(x,t)\n",
    "        end\n",
    "        # Repeat to gather enough coprimes to create other coprimes of sizes up to t-1\n",
    "        p = p*x\n",
    "    end \n",
    "    k = rand(1:length(coprimes))\n",
    "    return prod(coprimes[1:k])\n",
    "end\n",
    "\n",
    "# Function to generate a valid private RSA key\n",
    "# Input: e,t\n",
    "# Output: d\n",
    "function generate_d(e::Int,t::Int)\n",
    "    # Since gcd(e,t) = 1, from Bezout: a*e + b*t = 1 -> a*e = 1 - b*t\n",
    "    # Notice that: ( 1 - b*t )mod(t) = 1 for b an integer\n",
    "    # Hence we can set d (our private key) = a\n",
    "    _,d,_ = gcdx(e,t)\n",
    "    # Take d mod t since a can be negative\n",
    "    return mod(d,t)\n",
    "end\n",
    "\n",
    "# Function to generate a valid key pair e and d\n",
    "# Calls generate_e and generate_d\n",
    "function RSA_key_pair(t::Int)\n",
    "    e = generate_e(t)\n",
    "    d = generate_d(e,t)\n",
    "    return (d,e)\n",
    "end"
   ]
  },
  {
   "cell_type": "code",
   "execution_count": 8,
   "metadata": {},
   "outputs": [
    {
     "name": "stdout",
     "output_type": "stream",
     "text": [
      "The public key (n,e) is: 1490893363 , 1285966013\n",
      "The private key d is: 346639277\n"
     ]
    }
   ],
   "source": [
    "# Initialize Random Primes\n",
    "p1 = 21013\n",
    "p2 = 70951\n",
    "\n",
    "n = p1*p2\n",
    "t = (p1-1)*(p2-1)\n",
    "d , e = RSA_key_pair(t)\n",
    "\n",
    "println(\"The public key (n,e) is: $n , $e\")\n",
    "println(\"The private key d is: $d\")"
   ]
  },
  {
   "cell_type": "markdown",
   "metadata": {},
   "source": [
    "### 2.2.2 Encryption\n",
    "\n",
    "Design and implement a function `RSA_Encypt`. Write necessary documentation. "
   ]
  },
  {
   "cell_type": "code",
   "execution_count": 9,
   "metadata": {},
   "outputs": [
    {
     "data": {
      "text/plain": [
       "RSA_Encypt (generic function with 1 method)"
      ]
     },
     "execution_count": 9,
     "metadata": {},
     "output_type": "execute_result"
    }
   ],
   "source": [
    "# Function for RSA encryption\n",
    "# Input:  m, the message in a string format\n",
    "#         n, n from RSA public key, must be greater than 128\n",
    "#         e, e from RSA public key\n",
    "# Output: c, vector of integers of the encrypted characters in m\n",
    "function RSA_Encypt(m::String,n::Int,e::Int)\n",
    "    # Convert the characters of m to integers using the ascii values\n",
    "    m_ascii = [ Int(i) for i in m]\n",
    "    # Encryption\n",
    "    m_encry = [ pwr_mod(i,n,e) for i in m_ascii]\n",
    "    return m_encry\n",
    "end"
   ]
  },
  {
   "cell_type": "code",
   "execution_count": 10,
   "metadata": {},
   "outputs": [
    {
     "name": "stdout",
     "output_type": "stream",
     "text": [
      "Message m to be encrypted: 'This is my secret message'\n"
     ]
    }
   ],
   "source": [
    "m = \"This is my secret message\"\n",
    "c = RSA_Encypt(m,n,e)\n",
    "println(\"Message m to be encrypted: '$m'\")"
   ]
  },
  {
   "cell_type": "markdown",
   "metadata": {},
   "source": [
    "### 2.2.3 Decryption\n",
    "\n",
    "Design and implement a function `RSA_Decypt`. Write necessary documentation. \n",
    "\n",
    "Use at least 3 examples to demonstrate the correctness of your encryption and decryption functions. "
   ]
  },
  {
   "cell_type": "code",
   "execution_count": 11,
   "metadata": {},
   "outputs": [
    {
     "data": {
      "text/plain": [
       "RSA_Decypt (generic function with 1 method)"
      ]
     },
     "execution_count": 11,
     "metadata": {},
     "output_type": "execute_result"
    }
   ],
   "source": [
    "# Function for RSA encryption\n",
    "# Input:  c, encrypted message, vector of integers\n",
    "#         n, n from RSA public key, must be greater than 128 to support ascii\n",
    "#         d, private key\n",
    "# Output: m, decrypted message\n",
    "function RSA_Decypt(c::Vector{Int64},n::Int,d::Int)\n",
    "    m_ascii = [ pwr_mod(i,n,d) for i in c]\n",
    "    # Convert the integers back to characters\n",
    "    m = [ Char(i) for i in m_ascii]\n",
    "    # Return the string\n",
    "    return String(m)\n",
    "end"
   ]
  },
  {
   "cell_type": "code",
   "execution_count": 12,
   "metadata": {},
   "outputs": [
    {
     "name": "stdout",
     "output_type": "stream",
     "text": [
      "Decrypted message: This is my secret message\n",
      "Is it the same as the original message? true"
     ]
    }
   ],
   "source": [
    "m_decry = RSA_Decypt(c,n,d)\n",
    "println(\"Decrypted message: $m_decry\")\n",
    "print(\"Is it the same as the original message? \")\n",
    "print(m_decry == m)"
   ]
  },
  {
   "cell_type": "markdown",
   "metadata": {},
   "source": [
    "### 2.2.4 Digital Signature Sign\n",
    "\n",
    "Design and implement a function `RSA_Sign` to digitally sign a message. Write necessary documentation. "
   ]
  },
  {
   "cell_type": "code",
   "execution_count": 13,
   "metadata": {},
   "outputs": [
    {
     "data": {
      "text/plain": [
       "RSA_Sign (generic function with 1 method)"
      ]
     },
     "execution_count": 13,
     "metadata": {},
     "output_type": "execute_result"
    }
   ],
   "source": [
    "# Function for RSA Signature Creation\n",
    "# Input:  m, the message in a string format\n",
    "#         n, n from RSA public key, must be greater than 128\n",
    "#         d, private key\n",
    "#         f, hash function for m (Optional, default is sum)\n",
    "# Output: s, s is the hash of the message m for RSA signature\n",
    "#         y, is the signature for RSA signature\n",
    "function RSA_Sign(m::String,n::Int,d::Int;f::Function=sum)\n",
    "    # the function s is chosen to be the sum of the elements in the message\n",
    "    s = f([Int(i) for i in m])\n",
    "    y = pwr_mod(s,n,d)\n",
    "    return s,y\n",
    "end"
   ]
  },
  {
   "cell_type": "markdown",
   "metadata": {},
   "source": [
    "### 2.2.5 Digital Signature Verification\n",
    "\n",
    "Design and implement a function `RSA_SignVerify` to verify the digital sigature. Write necessary documentation. \n",
    "\n",
    "Use at least 3 examples to demonstrate the correctness of your functions for digital signature and verification. "
   ]
  },
  {
   "cell_type": "code",
   "execution_count": 14,
   "metadata": {},
   "outputs": [
    {
     "data": {
      "text/plain": [
       "RSA_SignVerify (generic function with 1 method)"
      ]
     },
     "execution_count": 14,
     "metadata": {},
     "output_type": "execute_result"
    }
   ],
   "source": [
    "# Function for RSA Signature Verification\n",
    "# Input:  m, the message in a string format\n",
    "#         n, n from RSA public key, must be greater than 128\n",
    "#         d, private key\n",
    "# Output: bool, check whether the singature is valid\n",
    "function RSA_SignVerify(s::Int,y::Int,e::Int,n::Int)\n",
    "    return pwr_mod(y,n,e) == s\n",
    "end"
   ]
  },
  {
   "cell_type": "code",
   "execution_count": 15,
   "metadata": {},
   "outputs": [
    {
     "name": "stdout",
     "output_type": "stream",
     "text": [
      "Is Signature 1 valid (Must be true): true\n",
      "Is Signature 2 valid (Must be true): true\n",
      "Is Signature 3 valid (Must be false): false\n"
     ]
    }
   ],
   "source": [
    "# Signature generation\n",
    "# Signature 1: generated with the original message\n",
    "s1 , y1 = RSA_Sign(m,n,d)\n",
    "\n",
    "# Signature 2: generated with a new message and different hash function\n",
    "new_m = \"New message\"\n",
    "h(x) = trunc(Int,sqrt((sum(x)*2)))\n",
    "s2 , y2 = RSA_Sign(new_m,n,d;f=h)\n",
    "\n",
    "# Signature 3: generated with a false private key\n",
    "false_d = rand(2:t-1)\n",
    "s3 , y3 = RSA_Sign(m,n,false_d)\n",
    "\n",
    "# Signature Verification\n",
    "c1 = RSA_SignVerify(s1,y1,e,n)\n",
    "c2 = RSA_SignVerify(s2,y2,e,n) \n",
    "c3 = RSA_SignVerify(s3,y3,e,n) \n",
    "\n",
    "println(\"Is Signature 1 valid (Must be true): $c1\")\n",
    "println(\"Is Signature 2 valid (Must be true): $c2\")\n",
    "println(\"Is Signature 3 valid (Must be false): $c3\")"
   ]
  },
  {
   "cell_type": "markdown",
   "metadata": {},
   "source": [
    "## Highlight\n",
    "\n",
    "Please list a couple of highlights of your coursework that may impress your markers."
   ]
  },
  {
   "cell_type": "markdown",
   "metadata": {},
   "source": [
    "2.2.1 Created functions to generate valid and random RSA private and public keys\n",
    "\n",
    "2.2.2 The function can encrypt anything in a string format\n",
    "\n",
    "2.2.4 The function can be configured to have a custom hash function"
   ]
  }
 ],
 "metadata": {
  "kernelspec": {
   "display_name": "Julia 1.6.3",
   "language": "julia",
   "name": "julia-1.6"
  },
  "language_info": {
   "file_extension": ".jl",
   "mimetype": "application/julia",
   "name": "julia",
   "version": "1.6.3"
  }
 },
 "nbformat": 4,
 "nbformat_minor": 2
}
