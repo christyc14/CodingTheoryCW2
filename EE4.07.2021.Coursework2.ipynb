{
 "cells": [
  {
   "cell_type": "markdown",
   "metadata": {},
   "source": [
    "# Coursework 2: Cryptography"
   ]
  },
  {
   "cell_type": "markdown",
   "metadata": {},
   "source": [
    "[x] By tick the checkbox, we hereby declare that this coursework report is our own and autonomous work. We have acknowledged all material and sources used in its preparation, including books, articles, reports, lecture notes, internet software packages, and any other kind of document, electronic or personal communication. This work has not been submitted for any other assessment."
   ]
  },
  {
   "cell_type": "markdown",
   "metadata": {},
   "source": [
    "## 2.1 ElGamal Public Key and Digital Signature (50%)"
   ]
  },
  {
   "cell_type": "markdown",
   "metadata": {},
   "source": [
    "### 2.1.1 Key Generation\n",
    "\n",
    "From [this list](https://primes.utm.edu/lists/small/10000.txt) choose a prime number $p$ that is larger than 10,000. Find a primitive element $b$ in $\\mathbb{F}_p$ such that $b > \\sqrt{p}$. Choose an integer $a^{\\prime} > \\sqrt{p}$ as your private key and use it to generate $a = b^{a^{\\prime}} \\in \\mathbb{F}_p^*$. \n",
    "\n",
    "$(p,b,a)$ is the public information. "
   ]
  },
  {
   "cell_type": "code",
   "execution_count": 23,
   "metadata": {},
   "outputs": [
    {
     "name": "stdout",
     "output_type": "stream",
     "text": [
      "p = 10067\n",
      "b = 103\n",
      "a = 7235\n"
     ]
    }
   ],
   "source": [
    "p = 10067\n",
    "b = 103 \n",
    "a_prime = 107 #Using smaller numbers to aid runtime\n",
    "\n",
    "function mod_computation(p, x, n)\n",
    "    a = x\n",
    "    for _ in 2:n # (x ^ n) % p == (x % p * x % p * ...) % p\n",
    "        a = mod(a * x, p)\n",
    "    end\n",
    "    return a\n",
    "end\n",
    "a = mod_computation(p, b, a_prime)\n",
    "println(\"p = \",p)\n",
    "println(\"b = \",b)\n",
    "println(\"a = \",a)"
   ]
  },
  {
   "cell_type": "markdown",
   "metadata": {},
   "source": [
    "### 2.1.2 Encryption\n",
    "\n",
    "Design and implement a function `ElGamal_Encypt`. Write necessary documentation. "
   ]
  },
  {
   "cell_type": "code",
   "execution_count": 72,
   "metadata": {},
   "outputs": [
    {
     "name": "stdout",
     "output_type": "stream",
     "text": [
      "22"
     ]
    },
    {
     "data": {
      "text/plain": [
       "2-element Vector{Int64}:\n",
       "   1561\n",
       " 368080"
      ]
     },
     "execution_count": 72,
     "metadata": {},
     "output_type": "execute_result"
    }
   ],
   "source": [
    "function ElGamal_Encrypt(p,b,a,msg)\n",
    "    t = rand(1:100)\n",
    "    print(t)\n",
    "    e_msg = [mod_computation(p, b, t), msg * mod_computation(p, a, t)]\n",
    "end\n",
    "msg = rand(1:200)\n",
    "e_msg = ElGamal_Encrypt(p,b,a,msg)"
   ]
  },
  {
   "cell_type": "markdown",
   "metadata": {},
   "source": [
    "### 2.1.3 Decryption\n",
    "\n",
    "Design and implement a function `ElGamal_Decypt`. Write necessary documentation. \n",
    "\n",
    "Use at least 3 examples to demonstrate the correctness of your encryption and decryption functions. "
   ]
  },
  {
   "cell_type": "code",
   "execution_count": 74,
   "metadata": {},
   "outputs": [
    {
     "name": "stdout",
     "output_type": "stream",
     "text": [
      "true\n"
     ]
    }
   ],
   "source": [
    "function ElGamal_Decrypt(p,b,a,e_msg)\n",
    "    #m = ma^t(b^t)^(-a_prime)\n",
    "    bt = e_msg[1]\n",
    "    mat = e_msg[2]\n",
    "    msg = 1 / mod_computation(p, bt, a_prime)\n",
    "    msg = mod(msg * mat,p)\n",
    "end\n",
    "println(msg == ElGamal_Decrypt(p,b,a,e_msg))"
   ]
  },
  {
   "cell_type": "markdown",
   "metadata": {},
   "source": [
    "### 2.1.4 Digital Signature Sign\n",
    "\n",
    "Design and implement a function `ElGamal_Sign` to digitally sign a message. Write necessary documentation. "
   ]
  },
  {
   "cell_type": "markdown",
   "metadata": {},
   "source": [
    "### 2.1.5 Digital Signature Verification\n",
    "\n",
    "Design and implement a function `ElGamal_SignVerify` to verify the digital sigature. Write necessary documentation. \n",
    "\n",
    "Use at least 3 examples to demonstrate the correctness of your functions for digital signature and verification. "
   ]
  },
  {
   "cell_type": "markdown",
   "metadata": {},
   "source": [
    "## 2.2 RSA Public Key and Digital Signature (50%)"
   ]
  },
  {
   "cell_type": "markdown",
   "metadata": {},
   "source": [
    "### 2.2.1 Key Generation\n",
    "\n",
    "From [this list](https://primes.utm.edu/lists/small/10000.txt) choose two prime numbers $p_1$ and $p_2$ that are larger than 10,000. Calculate $n=p_1 p_2$ and $t=(p_1-1)(p_2-1)$. Find an $e > 10,000$ such that $\\text{gcd}(e,t)=1$. \n",
    "\n",
    "$(n,e)$ is the public key. "
   ]
  },
  {
   "cell_type": "markdown",
   "metadata": {},
   "source": [
    "### 2.2.2 Encryption\n",
    "\n",
    "Design and implement a function `RSA_Encypt`. Write necessary documentation. "
   ]
  },
  {
   "cell_type": "markdown",
   "metadata": {},
   "source": [
    "### 2.2.3 Decryption\n",
    "\n",
    "Design and implement a function `RSA_Decypt`. Write necessary documentation. \n",
    "\n",
    "Use at least 3 examples to demonstrate the correctness of your encryption and decryption functions. "
   ]
  },
  {
   "cell_type": "markdown",
   "metadata": {},
   "source": [
    "### 2.2.4 Digital Signature Sign\n",
    "\n",
    "Design and implement a function `RSA_Sign` to digitally sign a message. Write necessary documentation. "
   ]
  },
  {
   "cell_type": "markdown",
   "metadata": {},
   "source": [
    "### 2.2.5 Digital Signature Verification\n",
    "\n",
    "Design and implement a function `RSA_SignVerify` to verify the digital sigature. Write necessary documentation. \n",
    "\n",
    "Use at least 3 examples to demonstrate the correctness of your functions for digital signature and verification. "
   ]
  },
  {
   "cell_type": "markdown",
   "metadata": {},
   "source": [
    "## Highlight\n",
    "\n",
    "Please list a couple of highlights of your coursework that may impress your markers."
   ]
  }
 ],
 "metadata": {
  "kernelspec": {
   "display_name": "Julia 1.6.3",
   "language": "julia",
   "name": "julia-1.6"
  },
  "language_info": {
   "file_extension": ".jl",
   "mimetype": "application/julia",
   "name": "julia",
   "version": "1.6.3"
  }
 },
 "nbformat": 4,
 "nbformat_minor": 2
}
