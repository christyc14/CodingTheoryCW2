{
 "cells": [
  {
   "cell_type": "markdown",
   "metadata": {},
   "source": [
    "# Coursework 2: Cryptography"
   ]
  },
  {
   "cell_type": "markdown",
   "metadata": {},
   "source": [
    "[x] By tick the checkbox, we hereby declare that this coursework report is our own and autonomous work. We have acknowledged all material and sources used in its preparation, including books, articles, reports, lecture notes, internet software packages, and any other kind of document, electronic or personal communication. This work has not been submitted for any other assessment."
   ]
  },
  {
   "cell_type": "markdown",
   "metadata": {},
   "source": [
    "## 2.1 ElGamal Public Key and Digital Signature (50%)"
   ]
  },
  {
   "cell_type": "markdown",
   "metadata": {},
   "source": [
    "### 2.1.1 Key Generation\n",
    "\n",
    "From [this list](https://primes.utm.edu/lists/small/10000.txt) choose a prime number $p$ that is larger than 10,000. Find a primitive element $b$ in $\\mathbb{F}_p$ such that $b > \\sqrt{p}$. Choose an integer $a^{\\prime} > \\sqrt{p}$ as your private key and use it to generate $a = b^{a^{\\prime}} \\in \\mathbb{F}_p^*$. \n",
    "\n",
    "$(p,b,a)$ is the public information. "
   ]
  },
  {
   "cell_type": "code",
   "execution_count": 1,
   "metadata": {},
   "outputs": [
    {
     "name": "stdout",
     "output_type": "stream",
     "text": [
      "p = 10067\n",
      "b = 103\n",
      "a = 7235\n"
     ]
    }
   ],
   "source": [
    "p = 10067\n",
    "b = 103 #do we need to calculate this?\n",
    "a_prime = 107 #Using smaller numbers to aid runtime\n",
    "\n",
    "function mod_computation(p, x, n)\n",
    "    a = x\n",
    "    for _ in 2:n # (x ^ n) % p == (x % p * x % p * ...) % p\n",
    "        a = mod(a * x, p)\n",
    "    end\n",
    "    return a\n",
    "end\n",
    "a = mod_computation(p, b, a_prime)\n",
    "println(\"p = \",p)\n",
    "println(\"b = \",b)\n",
    "println(\"a = \",a)"
   ]
  },
  {
   "cell_type": "markdown",
   "metadata": {},
   "source": [
    "### 2.1.2 Encryption\n",
    "\n",
    "Design and implement a function `ElGamal_Encypt`. Write necessary documentation. "
   ]
  },
  {
   "cell_type": "code",
   "execution_count": 2,
   "metadata": {},
   "outputs": [
    {
     "name": "stdout",
     "output_type": "stream",
     "text": [
      "63"
     ]
    },
    {
     "data": {
      "text/plain": [
       "2-element Vector{Int64}:\n",
       "   2258\n",
       " 797713"
      ]
     },
     "execution_count": 2,
     "metadata": {},
     "output_type": "execute_result"
    }
   ],
   "source": [
    "function ElGamal_Encrypt(p,b,a,msg)\n",
    "    t = rand(1:100)\n",
    "    print(t)\n",
    "    e_msg = [mod_computation(p, b, t), msg * mod_computation(p, a, t)]\n",
    "end\n",
    "msg = rand(1:200)\n",
    "e_msg = ElGamal_Encrypt(p,b,a,msg)"
   ]
  },
  {
   "cell_type": "markdown",
   "metadata": {},
   "source": [
    "### 2.1.3 Decryption\n",
    "\n",
    "Design and implement a function `ElGamal_Decypt`. Write necessary documentation. \n",
    "\n",
    "Use at least 3 examples to demonstrate the correctness of your encryption and decryption functions. "
   ]
  },
  {
   "cell_type": "code",
   "execution_count": 3,
   "metadata": {},
   "outputs": [
    {
     "name": "stdout",
     "output_type": "stream",
     "text": [
      "true\n"
     ]
    }
   ],
   "source": [
    "function ElGamal_Decrypt(p,b,a,e_msg)\n",
    "    #m = ma^t(b^t)^(-a_prime)\n",
    "    bt = e_msg[1]\n",
    "    mat = e_msg[2]\n",
    "    msg = 1 / mod_computation(p, bt, a_prime)\n",
    "    msg = mod(msg * mat,p)\n",
    "end\n",
    "println(msg == ElGamal_Decrypt(p,b,a,e_msg))"
   ]
  },
  {
   "cell_type": "markdown",
   "metadata": {},
   "source": [
    "### 2.1.4 Digital Signature Sign\n",
    "\n",
    "Design and implement a function `ElGamal_Sign` to digitally sign a message. Write necessary documentation. "
   ]
  },
  {
   "cell_type": "code",
   "execution_count": 25,
   "metadata": {},
   "outputs": [
    {
     "name": "stdout",
     "output_type": "stream",
     "text": [
      "u = 9417.0\n",
      "ElGamal_Sign(m, p, b, t, a_prime) = (3482, 2252.0)\n"
     ]
    },
    {
     "data": {
      "text/plain": [
       "(3482, 2252.0)"
      ]
     },
     "execution_count": 25,
     "metadata": {},
     "output_type": "execute_result"
    }
   ],
   "source": [
    "using LinearAlgebra\n",
    "#Define random message\n",
    "m = 82\n",
    "#m = rand(1:200)\n",
    "#print(\"MESSAGE: \", m, \"\\n\")\n",
    "\n",
    "#Choose random t between 1 and p-1\n",
    "#gcd of t with p-1 must equal 1. gcd(t, p-1) = 1\n",
    "t = 1551\n",
    "#while gcd(t, p-1) != 1\n",
    "    #t = rand(1:p-1)\n",
    "#end\n",
    "\n",
    "#calculate u where t*u = 1 mod(p-1)\n",
    "u = 0\n",
    "count = 0\n",
    "loop = true\n",
    "\n",
    "while loop == true\n",
    "    if(mod((count * (p-1) + 1),t) == 0)\n",
    "        u = (count * (p-1) + 1)/t\n",
    "        loop = false\n",
    "    end\n",
    "    count = count + 1 \n",
    "end\n",
    "@show u\n",
    "\n",
    "function ElGamal_Sign(m, p, b, t, a_prime)\n",
    "    i = mod_computation(p, b, t) \n",
    "    j = mod(u * (norm(m) - a_prime * norm(i)), p-1)\n",
    "    \n",
    "    return i, j\n",
    "    \n",
    "end\n",
    "\n",
    "@show ElGamal_Sign(m, p, b, t, a_prime)"
   ]
  },
  {
   "cell_type": "markdown",
   "metadata": {},
   "source": [
    "### 2.1.5 Digital Signature Verification\n",
    "\n",
    "Design and implement a function `ElGamal_SignVerify` to verify the digital sigature. Write necessary documentation. \n",
    "\n",
    "Use at least 3 examples to demonstrate the correctness of your functions for digital signature and verification. "
   ]
  },
  {
   "cell_type": "code",
   "execution_count": 26,
   "metadata": {},
   "outputs": [
    {
     "name": "stdout",
     "output_type": "stream",
     "text": [
      "LHS = 5966\n",
      "RHS = 5966\n"
     ]
    },
    {
     "data": {
      "text/plain": [
       "true"
      ]
     },
     "execution_count": 26,
     "metadata": {},
     "output_type": "execute_result"
    }
   ],
   "source": [
    "function ElGamal_SignVerify(p, a, b, i, j, m)\n",
    "    LHS = mod(mod_computation(p, a, i) * mod_computation(p, i, j),p)\n",
    "    RHS = mod_computation(p, b, m)\n",
    "    @show LHS\n",
    "    @show RHS\n",
    "    return LHS == RHS\n",
    "end\n",
    "\n",
    "#i,j = ElGamal_Sign(m, p, b, t, a_prime)\n",
    "\n",
    "j = 2252\n",
    "i = 3482\n",
    "\n",
    "ElGamal_SignVerify(p, a, b, i, j, m)"
   ]
  },
  {
   "cell_type": "markdown",
   "metadata": {},
   "source": [
    "## 2.2 RSA Public Key and Digital Signature (50%)"
   ]
  },
  {
   "cell_type": "markdown",
   "metadata": {},
   "source": [
    "### 2.2.1 Key Generation\n",
    "\n",
    "From [this list](https://primes.utm.edu/lists/small/10000.txt) choose two prime numbers $p_1$ and $p_2$ that are larger than 10,000. Calculate $n=p_1 p_2$ and $t=(p_1-1)(p_2-1)$. Find an $e > 10,000$ such that $\\text{gcd}(e,t)=1$. \n",
    "\n",
    "$(n,e)$ is the public key. "
   ]
  },
  {
   "cell_type": "markdown",
   "metadata": {},
   "source": [
    "### 2.2.2 Encryption\n",
    "\n",
    "Design and implement a function `RSA_Encypt`. Write necessary documentation. "
   ]
  },
  {
   "cell_type": "markdown",
   "metadata": {},
   "source": [
    "### 2.2.3 Decryption\n",
    "\n",
    "Design and implement a function `RSA_Decypt`. Write necessary documentation. \n",
    "\n",
    "Use at least 3 examples to demonstrate the correctness of your encryption and decryption functions. "
   ]
  },
  {
   "cell_type": "markdown",
   "metadata": {},
   "source": [
    "### 2.2.4 Digital Signature Sign\n",
    "\n",
    "Design and implement a function `RSA_Sign` to digitally sign a message. Write necessary documentation. "
   ]
  },
  {
   "cell_type": "code",
   "execution_count": null,
   "metadata": {},
   "outputs": [],
   "source": []
  },
  {
   "cell_type": "markdown",
   "metadata": {},
   "source": [
    "### 2.2.5 Digital Signature Verification\n",
    "\n",
    "Design and implement a function `RSA_SignVerify` to verify the digital sigature. Write necessary documentation. \n",
    "\n",
    "Use at least 3 examples to demonstrate the correctness of your functions for digital signature and verification. "
   ]
  },
  {
   "cell_type": "code",
   "execution_count": null,
   "metadata": {},
   "outputs": [],
   "source": []
  },
  {
   "cell_type": "markdown",
   "metadata": {},
   "source": [
    "## Highlight\n",
    "\n",
    "Please list a couple of highlights of your coursework that may impress your markers."
   ]
  }
 ],
 "metadata": {
  "kernelspec": {
   "display_name": "Julia 1.6.3",
   "language": "julia",
   "name": "julia-1.6"
  },
  "language_info": {
   "file_extension": ".jl",
   "mimetype": "application/julia",
   "name": "julia",
   "version": "1.6.3"
  }
 },
 "nbformat": 4,
 "nbformat_minor": 2
}
